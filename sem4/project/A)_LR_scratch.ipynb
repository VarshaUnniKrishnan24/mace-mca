{
  "nbformat": 4,
  "nbformat_minor": 0,
  "metadata": {
    "colab": {
      "provenance": []
    },
    "kernelspec": {
      "name": "python3",
      "display_name": "Python 3"
    },
    "language_info": {
      "name": "python"
    }
  },
  "cells": [
    {
      "cell_type": "markdown",
      "source": [
        "Function"
      ],
      "metadata": {
        "id": "oN2L-xASz_Ox"
      }
    },
    {
      "cell_type": "code",
      "execution_count": null,
      "metadata": {
        "id": "05GqW28p82F2"
      },
      "outputs": [],
      "source": [
        "import numpy as np\n",
        "import matplotlib.pyplot as plt\n",
        "\n",
        "class MultiClassLogisticRegression:\n",
        "\n",
        "    def __init__(self, n_iter = 10000, thres=1e-3):\n",
        "        self.n_iter = n_iter\n",
        "        self.thres = thres\n",
        "        #This method initializes the logistic regression model with parameters\n",
        "        #such as the maximum number of iterations (n_iter) and a threshold (thres) for convergence.\n",
        "\n",
        "    def fit(self, X, y, batch_size=64, lr=0.001, rand_seed=4, verbose=False):\n",
        "        np.random.seed(rand_seed)\n",
        "        self.classes = np.unique(y)\n",
        "        self.class_labels = {c:i for i,c in enumerate(self.classes)}\n",
        "        X = self.add_bias(X)\n",
        "        y = self.one_hot(y)\n",
        "        self.loss = []\n",
        "        self.weights = np.zeros(shape=(len(self.classes),X.shape[1]))\n",
        "        self.fit_data(X, y, batch_size, lr, verbose)\n",
        "        return self\n",
        "        #This method trains the logistic regression model. It takes input data (X) and corresponding target labels (y)\n",
        "        #along with optional parameters like batch size (batch_size), learning rate (lr), random seed (rand_seed), and verbosity (verbose).\n",
        "        # Within this method:It preprocesses the data by adding a bias term to input features and encoding target labels into one-hot vectors.\n",
        "        #It initializes model weights and iteratively updates them using stochastic gradient descent until convergence or reaching the maximum number of iterations.\n",
        "\n",
        "    def fit_data(self, X, y, batch_size, lr, verbose):\n",
        "        i = 0\n",
        "        while (not self.n_iter or i < self.n_iter):\n",
        "            self.loss.append(self.cross_entropy(y, self.predict_(X)))\n",
        "            idx = np.random.choice(X.shape[0], batch_size)\n",
        "            X_batch, y_batch = X[idx], y[idx]\n",
        "            error = y_batch - self.predict_(X_batch)\n",
        "            update = (lr * np.dot(error.T, X_batch))\n",
        "            self.weights += update\n",
        "            if np.abs(update).max() < self.thres: break\n",
        "            if i % 1000 == 0 and verbose:\n",
        "                print(' Training Accuray at {} iterations is {}'.format(i, self.evaluate_(X, y)))\n",
        "            i +=1\n",
        "            #This method performs the actual training process using stochastic gradient descent (SGD). It updates model weights based on a randomly selected\n",
        "            # batch of data points until convergence or reaching the maximum number of iterations.\n",
        "\n",
        "    def predict(self, X):\n",
        "        return self.predict_(self.add_bias(X))\n",
        "        #It predicts the class labels for given input data.\n",
        "\n",
        "    def predict_(self, X):\n",
        "        pre_vals = np.dot(X, self.weights.T).reshape(-1,len(self.classes))\n",
        "        return self.softmax(pre_vals)\n",
        "        #It calculates class probabilities for given input data.\n",
        "\n",
        "    def softmax(self, z):\n",
        "        return np.exp(z) / np.sum(np.exp(z), axis=1).reshape(-1,1)\n",
        "\n",
        "    def predict_classes(self, X):\n",
        "        self.probs_ = self.predict(X)\n",
        "        return np.vectorize(lambda c: self.classes[c])(np.argmax(self.probs_, axis=1))\n",
        "        #It predicts the class labels based on calculated probabilities.\n",
        "\n",
        "    def add_bias(self,X):\n",
        "        return np.insert(X, 0, 1, axis=1)\n",
        "        #It adds a bias term (intercept) to input features.\n",
        "\n",
        "    def get_randon_weights(self, row, col):\n",
        "        return np.zeros(shape=(row,col))\n",
        "        #It initializes model weights.\n",
        "\n",
        "    def one_hot(self, y):\n",
        "        return np.eye(len(self.classes))[np.vectorize(lambda c: self.class_labels[c])(y).reshape(-1)]\n",
        "        #It encodes target labels into one-hot vectors.\n",
        "\n",
        "    def score(self, X, y):\n",
        "        return np.mean(self.predict_classes(X) == y)\n",
        "        #It calculates the accuracy of predicted class labels against true labels.\n",
        "\n",
        "    def evaluate_(self, X, y):\n",
        "        return np.mean(np.argmax(self.predict_(X), axis=1) == np.argmax(y, axis=1))\n",
        "        #It calculates the accuracy of predicted class probabilities against true labels.\n",
        "\n",
        "    def cross_entropy(self, y, probs):\n",
        "        return -1 * np.mean(y * np.log(probs))\n",
        "        #It computes the cross-entropy loss between predicted probabilities and true labels.\n"
      ]
    },
    {
      "cell_type": "code",
      "source": [
        "\n",
        "\n",
        "import pandas as pd\n",
        "\n",
        "df = pd.read_csv('/content/drive/MyDrive/maindataset/Processed_data1.csv')"
      ],
      "metadata": {
        "id": "yp7ZHetN_sMz"
      },
      "execution_count": null,
      "outputs": []
    },
    {
      "cell_type": "code",
      "source": [
        "from sklearn.feature_extraction.text import CountVectorizer\n",
        "vectorizer = CountVectorizer(max_features = 10000, ngram_range=(1, 3), stop_words='english')\n",
        "count_vectors = vectorizer.fit_transform(df['clean_essay'])\n",
        "feature_names = vectorizer.get_feature_names_out()\n",
        "data = df[['essay_set','clean_essay','final_score']].copy()\n",
        "X = count_vectors.toarray()\n",
        "y = data['final_score'].to_numpy()"
      ],
      "metadata": {
        "id": "TYG1CStVAih-"
      },
      "execution_count": null,
      "outputs": []
    },
    {
      "cell_type": "code",
      "source": [
        "lr = MultiClassLogisticRegression()\n",
        "lr.fit(X,y, lr=0.0001)"
      ],
      "metadata": {
        "id": "9OuBfzORnRK1"
      },
      "execution_count": null,
      "outputs": []
    },
    {
      "cell_type": "code",
      "source": [
        "pre = lr.predict_classes(X)\n",
        "print(lr.score(X,y))\n",
        "\n",
        "fig = plt.figure(figsize=(8,6))\n",
        "plt.plot(np.arange(len(lr.loss)), lr.loss)\n",
        "plt.title(\"Development of loss during training\")\n",
        "plt.xlabel(\"Number of iterations\")\n",
        "plt.ylabel(\"Loss\")\n",
        "plt.show()"
      ],
      "metadata": {
        "colab": {
          "base_uri": "https://localhost:8080/",
          "height": 581
        },
        "id": "7jf1ExH_pe0H",
        "outputId": "ca1501f3-8e59-475b-d10a-ee76d5a42ed3"
      },
      "execution_count": null,
      "outputs": [
        {
          "output_type": "stream",
          "name": "stdout",
          "text": [
            "0.43719173859432797\n"
          ]
        },
        {
          "output_type": "display_data",
          "data": {
            "text/plain": [
              "<Figure size 800x600 with 1 Axes>"
            ],
            "image/png": "[encoded data removed]"
          },
          "metadata": {}
        }
      ]
    },
    {
      "cell_type": "code",
      "source": [
        "from sklearn.metrics import accuracy_score, cohen_kappa_score\n",
        "\n",
        "# Assuming pre is the predicted classes\n",
        "accuracy = accuracy_score(y, pre)\n",
        "qwk_score = cohen_kappa_score(y, pre, weights='quadratic')\n",
        "\n",
        "print(\"Accuracy:\", accuracy)\n",
        "print(\"QWK Score:\", qwk_score)\n"
      ],
      "metadata": {
        "colab": {
          "base_uri": "https://localhost:8080/"
        },
        "id": "qZhWNKPJn1Bz",
        "outputId": "2e570a2d-aeea-4380-db56-dd65f7f159fb"
      },
      "execution_count": null,
      "outputs": [
        {
          "output_type": "stream",
          "name": "stdout",
          "text": [
            "Accuracy: 0.43719173859432797\n",
            "QWK Score: 0.3600226361772776\n"
          ]
        }
      ]
    },
    {
      "cell_type": "markdown",
      "source": [
        "model 2"
      ],
      "metadata": {
        "id": "QlKOjW06CVcn"
      }
    },
    {
      "cell_type": "code",
      "source": [],
      "metadata": {
        "id": "HeuTFHdOCYZD"
      },
      "execution_count": null,
      "outputs": []
    },
    {
      "cell_type": "code",
      "execution_count": null,
      "metadata": {
        "id": "cJzyhRazCZBx"
      },
      "outputs": [],
      "source": [
        "import numpy as np\n",
        "import matplotlib.pyplot as plt\n",
        "\n",
        "class MultiClassLogisticRegression:\n",
        "\n",
        "    def __init__(self, n_iter = 10000, thres=1e-3):\n",
        "        self.n_iter = n_iter\n",
        "        self.thres = thres\n",
        "        #This method initializes the logistic regression model with parameters\n",
        "        #such as the maximum number of iterations (n_iter) and a threshold (thres) for convergence.\n",
        "\n",
        "    def fit(self, X, y, batch_size=64, lr=0.001, rand_seed=4, verbose=False):\n",
        "        np.random.seed(rand_seed)\n",
        "        self.classes = np.unique(y)\n",
        "        self.class_labels = {c:i for i,c in enumerate(self.classes)}\n",
        "        X = self.add_bias(X)\n",
        "        y = self.one_hot(y)\n",
        "        self.loss = []\n",
        "        self.weights = np.zeros(shape=(len(self.classes),X.shape[1]))\n",
        "        self.fit_data(X, y, batch_size, lr, verbose)\n",
        "        return self\n",
        "        #This method trains the logistic regression model. It takes input data (X) and corresponding target labels (y)\n",
        "        #along with optional parameters like batch size (batch_size), learning rate (lr), random seed (rand_seed), and verbosity (verbose).\n",
        "        # Within this method:It preprocesses the data by adding a bias term to input features and encoding target labels into one-hot vectors.\n",
        "        #It initializes model weights and iteratively updates them using stochastic gradient descent until convergence or reaching the maximum number of iterations.\n",
        "\n",
        "    def fit_data(self, X, y, batch_size, lr, verbose):\n",
        "        i = 0\n",
        "        while (not self.n_iter or i < self.n_iter):\n",
        "            self.loss.append(self.cross_entropy(y, self.predict_(X)))\n",
        "            idx = np.random.choice(X.shape[0], batch_size)\n",
        "            X_batch, y_batch = X[idx], y[idx]\n",
        "            error = y_batch - self.predict_(X_batch)\n",
        "            update = (lr * np.dot(error.T, X_batch))\n",
        "            self.weights += update\n",
        "            if np.abs(update).max() < self.thres: break\n",
        "            if i % 1000 == 0 and verbose:\n",
        "                print(' Training Accuray at {} iterations is {}'.format(i, self.evaluate_(X, y)))\n",
        "            i +=1\n",
        "            #This method performs the actual training process using stochastic gradient descent (SGD). It updates model weights based on a randomly selected\n",
        "            # batch of data points until convergence or reaching the maximum number of iterations.\n",
        "\n",
        "    def predict(self, X):\n",
        "        return self.predict_(self.add_bias(X))\n",
        "        #It predicts the class labels for given input data.\n",
        "\n",
        "    def predict_(self, X):\n",
        "        pre_vals = np.dot(X, self.weights.T).reshape(-1,len(self.classes))\n",
        "        return self.softmax(pre_vals)\n",
        "        #It calculates class probabilities for given input data.\n",
        "\n",
        "    def softmax(self, z):\n",
        "        return np.exp(z) / np.sum(np.exp(z), axis=1).reshape(-1,1)\n",
        "\n",
        "    def predict_classes(self, X):\n",
        "        self.probs_ = self.predict(X)\n",
        "        return np.vectorize(lambda c: self.classes[c])(np.argmax(self.probs_, axis=1))\n",
        "        #It predicts the class labels based on calculated probabilities.\n",
        "\n",
        "    def add_bias(self,X):\n",
        "        return np.insert(X, 0, 1, axis=1)\n",
        "        #It adds a bias term (intercept) to input features.\n",
        "\n",
        "    def get_randon_weights(self, row, col):\n",
        "        return np.zeros(shape=(row,col))\n",
        "        #It initializes model weights.\n",
        "\n",
        "    def one_hot(self, y):\n",
        "        return np.eye(len(self.classes))[np.vectorize(lambda c: self.class_labels[c])(y).reshape(-1)]\n",
        "        #It encodes target labels into one-hot vectors.\n",
        "\n",
        "    def score(self, X, y):\n",
        "        return np.mean(self.predict_classes(X) == y)\n",
        "        #It calculates the accuracy of predicted class labels against true labels.\n",
        "\n",
        "    def evaluate_(self, X, y):\n",
        "        return np.mean(np.argmax(self.predict_(X), axis=1) == np.argmax(y, axis=1))\n",
        "        #It calculates the accuracy of predicted class probabilities against true labels.\n",
        "\n",
        "    def cross_entropy(self, y, probs):\n",
        "        return -1 * np.mean(y * np.log(probs))\n",
        "        #It computes the cross-entropy loss between predicted probabilities and true labels.\n"
      ]
    },
    {
      "cell_type": "code",
      "source": [
        "\n",
        "\n",
        "import pandas as pd\n",
        "\n",
        "df = pd.read_csv('/content/drive/MyDrive/maindataset/Processed_data1.csv')"
      ],
      "metadata": {
        "id": "9AKw1mKTCZB0"
      },
      "execution_count": null,
      "outputs": []
    },
    {
      "cell_type": "code",
      "source": [
        "from sklearn.feature_extraction.text import CountVectorizer\n",
        "vectorizer = CountVectorizer(max_features = 10000, ngram_range=(1, 3), stop_words='english')\n",
        "count_vectors = vectorizer.fit_transform(df['clean_essay'])\n",
        "feature_names = vectorizer.get_feature_names_out()\n",
        "data = df[['essay_set','clean_essay','final_score']].copy()\n",
        "X = count_vectors.toarray()\n",
        "y = data['final_score'].to_numpy()"
      ],
      "metadata": {
        "id": "WJA5uYeeCZB2"
      },
      "execution_count": null,
      "outputs": []
    },
    {
      "cell_type": "code",
      "source": [
        "lr = MultiClassLogisticRegression()\n",
        "lr.fit(X,y, lr=0.0001)"
      ],
      "metadata": {
        "colab": {
          "base_uri": "https://localhost:8080/"
        },
        "id": "tGGOxWVbCZB3",
        "outputId": "190c5199-3351-49a8-ed41-e241346d6af5"
      },
      "execution_count": null,
      "outputs": [
        {
          "output_type": "execute_result",
          "data": {
            "text/plain": [
              "<__main__.MultiClassLogisticRegression at 0x7f3e9c511db0>"
            ]
          },
          "metadata": {},
          "execution_count": 4
        }
      ]
    },
    {
      "cell_type": "code",
      "source": [
        "pre = lr.predict_classes(X)\n",
        "print(lr.score(X,y))\n",
        "\n",
        "# fig = plt.figure(figsize=(8,6))\n",
        "# plt.plot(np.arange(len(lr.loss)), lr.loss)\n",
        "# plt.title(\"Development of loss during training\")\n",
        "# plt.xlabel(\"Number of iterations\")\n",
        "# plt.ylabel(\"Loss\")\n",
        "# plt.show()"
      ],
      "metadata": {
        "colab": {
          "base_uri": "https://localhost:8080/"
        },
        "outputId": "d84a2579-ed4f-4d0c-9b62-7da14a49a0de",
        "id": "s5v6sKnhCZB4"
      },
      "execution_count": null,
      "outputs": [
        {
          "output_type": "stream",
          "name": "stdout",
          "text": [
            "0.43719173859432797\n"
          ]
        }
      ]
    },
    {
      "cell_type": "code",
      "source": [
        "qwkscore=0.5600226361772776"
      ],
      "metadata": {
        "id": "GtBi07IMGjd4"
      },
      "execution_count": null,
      "outputs": []
    },
    {
      "cell_type": "code",
      "source": [
        "from sklearn.metrics import mean_squared_error, mean_absolute_error, r2_score, cohen_kappa_score\n",
        "\n",
        "pre = lr.predict_classes(X)\n",
        "\n",
        "# Calculate Mean Squared Error (MSE)\n",
        "mse = mean_squared_error(y, pre)\n",
        "print('MSE:', mse)\n",
        "\n",
        "# Calculate Mean Absolute Error (MAE)\n",
        "mae = mean_absolute_error(y, pre)\n",
        "print('MAE:', mae)\n",
        "\n",
        "# Calculate Root Mean Squared Error (RMSE)\n",
        "rmse = np.sqrt(mse)\n",
        "print('RMSE:', rmse)\n",
        "\n",
        "# Calculate R2 Score\n",
        "r2 = r2_score(y, pre)\n",
        "print('R2 Score:', r2)\n",
        "\n",
        "# Calculate Quadratic Weighted Kappa (QWK)\n",
        "qwk_score = cohen_kappa_score(y, pre, weights='quadratic')\n",
        "print(\"QWK Score:\", qwk_score)\n"
      ],
      "metadata": {
        "colab": {
          "base_uri": "https://localhost:8080/"
        },
        "outputId": "758aa0a3-2a6f-4029-d89b-e1cd4b168cb8",
        "id": "h3I3ohn1CZB6"
      },
      "execution_count": null,
      "outputs": [
        {
          "output_type": "stream",
          "name": "stdout",
          "text": [
            "MSE: 5.383477188655981\n",
            "MAE: 1.5393033292231812\n",
            "RMSE: 2.3202321411134665\n",
            "R2 Score: 0.114688493755564\n",
            "QWK Score: 0.5600226361772777\n"
          ]
        }
      ]
    }
  ]
}