{
  "nbformat": 4,
  "nbformat_minor": 0,
  "metadata": {
    "colab": {
      "provenance": []
    },
    "kernelspec": {
      "name": "python3",
      "display_name": "Python 3"
    },
    "language_info": {
      "name": "python"
    }
  },
  "cells": [
    {
      "cell_type": "code",
      "source": [
        "from google.colab import drive\n",
        "drive.mount('/content/drive')"
      ],
      "metadata": {
        "colab": {
          "base_uri": "https://localhost:8080/"
        },
        "id": "DA_D3Uogx_jv",
        "outputId": "38d5c3ff-8627-44ac-fd86-9138a40bbaef"
      },
      "execution_count": null,
      "outputs": [
        {
          "output_type": "stream",
          "name": "stdout",
          "text": [
            "Mounted at /content/drive\n"
          ]
        }
      ]
    },
    {
      "cell_type": "code",
      "source": [
        "import numpy as np\n",
        "from sklearn.tree import DecisionTreeRegressor\n",
        "\n",
        "class GradientBooster:\n",
        "\n",
        "    def __init__(self, max_depth=8, min_samples_split=5, min_samples_leaf=5, max_features=3, lr=0.1, num_iter=1000):\n",
        "        self.max_depth = max_depth\n",
        "        self.min_samples_split = min_samples_split\n",
        "        self.min_samples_leaf = min_samples_leaf\n",
        "        self.max_features = max_features\n",
        "        self.lr = lr\n",
        "        self.num_iter = num_iter\n",
        "        self.y_mean = 0\n",
        "        '''This method initializes the gradient boosting algorithm with hyperparameters such as maximum depth of trees (max_depth),\n",
        "        minimum samples required to split an internal node (min_samples_split), minimum samples required to be at a leaf node (min_samples_leaf),\n",
        "        maximum number of features to consider for split (max_features), learning rate (lr), and number of boosting iterations (num_iter).\n",
        "        It also initializes the mean of target values (y_mean).'''\n",
        "\n",
        "    def __calculate_loss(self,y, y_pred):\n",
        "        loss = (1/len(y)) * 0.5 * np.sum(np.square(y-y_pred))\n",
        "        return loss\n",
        "        #This method computes the mean squared error loss between true target values and predicted target values.\n",
        "\n",
        "    def __take_gradient(self, y, y_pred):\n",
        "        grad = -(y-y_pred)\n",
        "        return grad\n",
        "        #This method calculates the negative gradient of the loss function with respect to the predicted values.\n",
        "\n",
        "    def __create_base_model(self, X, y):\n",
        "        base = DecisionTreeRegressor(criterion='squared_error', max_depth=self.max_depth,\n",
        "                                min_samples_split=self.min_samples_split,\n",
        "                                min_samples_leaf=self.min_samples_leaf,\n",
        "                                max_features=self.max_features)\n",
        "        base.fit(X,y)\n",
        "        return base\n",
        "        #This method creates a base regression model, which is a decision tree regressor, using the specified hyperparameters.\n",
        "\n",
        "    def predict(self,models,y,X):\n",
        "        pred_0 = np.array([self.y_mean] * len(X))\n",
        "        pred = pred_0.reshape(len(pred_0),1)\n",
        "\n",
        "        for i in range(len(models)):\n",
        "            temp = (models[i].predict(X)).reshape(len(X),1)\n",
        "            pred -= self.lr * temp\n",
        "\n",
        "        return pred\n",
        "        #This method predicts target values by summing up predictions from each base model and updating the predictions based on the learning rate.\n",
        "\n",
        "    def train(self, X, y):\n",
        "        models = []\n",
        "        losses = []\n",
        "        self.y_mean = np.mean(y)\n",
        "        pred_0 = np.array([np.mean(y)] * len(y))\n",
        "        pred = pred_0.reshape(len(pred_0),1)\n",
        "\n",
        "        for epoch in range(self.num_iter):\n",
        "            loss = self.__calculate_loss(y, pred)\n",
        "            losses.append(loss)\n",
        "            grads = self.__take_gradient(y, pred)\n",
        "            base = self.__create_base_model(X, grads)\n",
        "            r = (base.predict(X)).reshape(len(X),1)\n",
        "            pred -= self.lr * r\n",
        "            models.append(base)\n",
        "\n",
        "        return models, losses, pred_0\n",
        "        '''This method trains the gradient boosting algorithm. It initializes predictions with the mean of target values, computes loss,\n",
        "         calculates gradients, fits a base model to the gradients, updates predictions based on the learning rate, and repeats this process for\n",
        "          the specified number of boosting iterations. It returns the trained models, losses at each iteration, and initial predictions.'''"
      ],
      "metadata": {
        "id": "7hi2Xl5wQv0S"
      },
      "execution_count": null,
      "outputs": []
    },
    {
      "cell_type": "code",
      "source": [
        "import pandas as pd\n",
        "import numpy as np\n",
        "from sklearn.preprocessing import StandardScaler\n",
        "from sklearn.model_selection import train_test_split\n",
        "from sklearn.tree import DecisionTreeRegressor\n",
        "import matplotlib.pyplot as pt\n",
        "import seaborn as sns\n",
        "from sklearn.metrics import mean_squared_error\n",
        "from sklearn.metrics import accuracy_score\n",
        "from sklearn.metrics import roc_auc_score"
      ],
      "metadata": {
        "id": "GC2jE-9_QyYq"
      },
      "execution_count": null,
      "outputs": []
    },
    {
      "cell_type": "code",
      "source": [
        "\n",
        "import pandas as pd\n",
        "\n",
        "df = pd.read_csv('/content/drive/MyDrive/maindataset/Processed_data1.csv')"
      ],
      "metadata": {
        "id": "njPBB0amydcj"
      },
      "execution_count": null,
      "outputs": []
    },
    {
      "cell_type": "code",
      "source": [
        "from sklearn.feature_extraction.text import CountVectorizer\n",
        "vectorizer = CountVectorizer(max_features = 10000, ngram_range=(1, 3), stop_words='english')\n",
        "count_vectors = vectorizer.fit_transform(df['clean_essay'])\n",
        "feature_names = vectorizer.get_feature_names_out()\n",
        "data = df[['essay_set','clean_essay','final_score']].copy()\n",
        "X = count_vectors.toarray()\n",
        "y = data['final_score'].to_numpy()"
      ],
      "metadata": {
        "id": "R6kBf_C3yrj1"
      },
      "execution_count": null,
      "outputs": []
    },
    {
      "cell_type": "code",
      "source": [
        "X_train, X_test, y_train, y_test = train_test_split(X, y, test_size=0.30, random_state=100)\n",
        "#scaling\n",
        "scaler = StandardScaler()\n",
        "X_train = scaler.fit_transform(X_train)\n",
        "X_test = scaler.fit_transform(X_test)\n",
        "y_train = np.array(y_train).reshape(X_train.shape[0],1)\n",
        "y_test = np.array(y_test).reshape(X_test.shape[0],1)\n",
        "#TRAIN\n",
        "G = GradientBooster()\n",
        "models, losses, pred_0 = G.train(X_train,y_train)"
      ],
      "metadata": {
        "id": "eUiTNncEQ8Mt"
      },
      "execution_count": null,
      "outputs": []
    },
    {
      "cell_type": "code",
      "source": [
        "sns.set_style('darkgrid')\n",
        "ax = sns.lineplot(x=range(1000),y=losses)\n",
        "ax.set(xlabel='Epoch',ylabel='Loss',title='Loss vs Epoch')"
      ],
      "metadata": {
        "colab": {
          "base_uri": "https://localhost:8080/",
          "height": 489
        },
        "id": "sKDAjgYHWFit",
        "outputId": "e95a9367-b85f-4250-9837-bb80771e103a"
      },
      "execution_count": null,
      "outputs": [
        {
          "output_type": "execute_result",
          "data": {
            "text/plain": [
              "[Text(0.5, 0, 'Epoch'), Text(0, 0.5, 'Loss'), Text(0.5, 1.0, 'Loss vs Epoch')]"
            ]
          },
          "metadata": {},
          "execution_count": 41
        },
        {
          "output_type": "display_data",
          "data": {
            "text/plain": [
              "<Figure size 640x480 with 1 Axes>"
            ],
            "image/png": "[encoded data removed]"
          },
          "metadata": {}
        }
      ]
    },
    {
      "cell_type": "code",
      "source": [
        "from sklearn.metrics import mean_squared_error, cohen_kappa_score\n",
        "\n",
        "y_pred = G.predict(models, y_train, X_test)\n",
        "print('RMSE:',np.sqrt(mean_squared_error(y_test,y_pred)))\n",
        "\n",
        "# Calculate Quadratic Weighted Kappa (QWK)\n",
        "def quadratic_weighted_kappa(y_true, y_pred):\n",
        "    return cohen_kappa_score(y_true, y_pred, weights='quadratic')\n",
        "\n",
        "qwk = quadratic_weighted_kappa(y_test, np.round(y_pred))\n",
        "print('QWK:', qwk)\n"
      ],
      "metadata": {
        "colab": {
          "base_uri": "https://localhost:8080/"
        },
        "id": "Nk__N9-fVTb1",
        "outputId": "e7655798-07dc-4969-8d4d-d30cef2898df"
      },
      "execution_count": null,
      "outputs": [
        {
          "output_type": "stream",
          "name": "stdout",
          "text": [
            "RMSE: 1.6187862171666831\n",
            "QWK: 0.7048055897133456\n"
          ]
        }
      ]
    },
    {
      "cell_type": "markdown",
      "source": [
        "model 2"
      ],
      "metadata": {
        "id": "GJcAc_yl7BI_"
      }
    },
    {
      "cell_type": "code",
      "source": [],
      "metadata": {
        "id": "-43ELX067DHg"
      },
      "execution_count": null,
      "outputs": []
    },
    {
      "cell_type": "code",
      "source": [
        "import numpy as np\n",
        "from sklearn.tree import DecisionTreeRegressor\n",
        "\n",
        "class GradientBooster:\n",
        "\n",
        "    def __init__(self, max_depth=8, min_samples_split=5, min_samples_leaf=5, max_features=3, lr=0.1, num_iter=1000):\n",
        "        self.max_depth = max_depth\n",
        "        self.min_samples_split = min_samples_split\n",
        "        self.min_samples_leaf = min_samples_leaf\n",
        "        self.max_features = max_features\n",
        "        self.lr = lr\n",
        "        self.num_iter = num_iter\n",
        "        self.y_mean = 0\n",
        "        '''This method initializes the gradient boosting algorithm with hyperparameters such as maximum depth of trees (max_depth),\n",
        "        minimum samples required to split an internal node (min_samples_split), minimum samples required to be at a leaf node (min_samples_leaf),\n",
        "        maximum number of features to consider for split (max_features), learning rate (lr), and number of boosting iterations (num_iter).\n",
        "        It also initializes the mean of target values (y_mean).'''\n",
        "\n",
        "    def __calculate_loss(self,y, y_pred):\n",
        "        loss = (1/len(y)) * 0.5 * np.sum(np.square(y-y_pred))\n",
        "        return loss\n",
        "        #This method computes the mean squared error loss between true target values and predicted target values.\n",
        "\n",
        "    def __take_gradient(self, y, y_pred):\n",
        "        grad = -(y-y_pred)\n",
        "        return grad\n",
        "        #This method calculates the negative gradient of the loss function with respect to the predicted values.\n",
        "\n",
        "    def __create_base_model(self, X, y):\n",
        "        base = DecisionTreeRegressor(criterion='squared_error', max_depth=self.max_depth,\n",
        "                                min_samples_split=self.min_samples_split,\n",
        "                                min_samples_leaf=self.min_samples_leaf,\n",
        "                                max_features=self.max_features)\n",
        "        base.fit(X,y)\n",
        "        return base\n",
        "        #This method creates a base regression model, which is a decision tree regressor, using the specified hyperparameters.\n",
        "\n",
        "    def predict(self,models,y,X):\n",
        "        pred_0 = np.array([self.y_mean] * len(X))\n",
        "        pred = pred_0.reshape(len(pred_0),1)\n",
        "\n",
        "        for i in range(len(models)):\n",
        "            temp = (models[i].predict(X)).reshape(len(X),1)\n",
        "            pred -= self.lr * temp\n",
        "\n",
        "        return pred\n",
        "        #This method predicts target values by summing up predictions from each base model and updating the predictions based on the learning rate.\n",
        "\n",
        "    def train(self, X, y):\n",
        "        models = []\n",
        "        losses = []\n",
        "        self.y_mean = np.mean(y)\n",
        "        pred_0 = np.array([np.mean(y)] * len(y))\n",
        "        pred = pred_0.reshape(len(pred_0),1)\n",
        "\n",
        "        for epoch in range(self.num_iter):\n",
        "            loss = self.__calculate_loss(y, pred)\n",
        "            losses.append(loss)\n",
        "            grads = self.__take_gradient(y, pred)\n",
        "            base = self.__create_base_model(X, grads)\n",
        "            r = (base.predict(X)).reshape(len(X),1)\n",
        "            pred -= self.lr * r\n",
        "            models.append(base)\n",
        "\n",
        "        return models, losses, pred_0\n",
        "        '''This method trains the gradient boosting algorithm. It initializes predictions with the mean of target values, computes loss,\n",
        "         calculates gradients, fits a base model to the gradients, updates predictions based on the learning rate, and repeats this process for\n",
        "          the specified number of boosting iterations. It returns the trained models, losses at each iteration, and initial predictions.'''"
      ],
      "metadata": {
        "id": "chuj-yLi7bEa"
      },
      "execution_count": null,
      "outputs": []
    },
    {
      "cell_type": "code",
      "source": [
        "import pandas as pd\n",
        "import numpy as np\n",
        "from sklearn.preprocessing import StandardScaler\n",
        "from sklearn.model_selection import train_test_split\n",
        "from sklearn.tree import DecisionTreeRegressor\n",
        "import matplotlib.pyplot as pt\n",
        "import seaborn as sns\n",
        "from sklearn.metrics import mean_squared_error\n",
        "from sklearn.metrics import accuracy_score\n",
        "from sklearn.metrics import roc_auc_score"
      ],
      "metadata": {
        "id": "s40mTQaU7bEc"
      },
      "execution_count": null,
      "outputs": []
    },
    {
      "cell_type": "code",
      "source": [
        "\n",
        "import pandas as pd\n",
        "\n",
        "df = pd.read_csv('/content/drive/MyDrive/maindataset/Processed_data1.csv')"
      ],
      "metadata": {
        "id": "GW2dw9x-7bEd"
      },
      "execution_count": null,
      "outputs": []
    },
    {
      "cell_type": "code",
      "source": [
        "from sklearn.feature_extraction.text import CountVectorizer\n",
        "vectorizer = CountVectorizer(max_features = 10000, ngram_range=(1, 3), stop_words='english')\n",
        "count_vectors = vectorizer.fit_transform(df['clean_essay'])\n",
        "feature_names = vectorizer.get_feature_names_out()\n",
        "data = df[['essay_set','clean_essay','final_score']].copy()\n",
        "X = count_vectors.toarray()\n",
        "y = data['final_score'].to_numpy()"
      ],
      "metadata": {
        "id": "C5vyy1iz7bEe"
      },
      "execution_count": null,
      "outputs": []
    },
    {
      "cell_type": "code",
      "source": [
        "X_train, X_test, y_train, y_test = train_test_split(X, y, test_size=0.30, random_state=100)\n",
        "#scaling\n",
        "scaler = StandardScaler()\n",
        "X_train = scaler.fit_transform(X_train)\n",
        "X_test = scaler.fit_transform(X_test)\n",
        "y_train = np.array(y_train).reshape(X_train.shape[0],1)\n",
        "y_test = np.array(y_test).reshape(X_test.shape[0],1)\n",
        "#TRAIN\n",
        "G = GradientBooster()\n",
        "models, losses, pred_0 = G.train(X_train,y_train)"
      ],
      "metadata": {
        "id": "DE-uBuHf7bEf"
      },
      "execution_count": null,
      "outputs": []
    },
    {
      "cell_type": "code",
      "source": [
        "from sklearn.metrics import mean_squared_error, mean_absolute_error, r2_score, cohen_kappa_score\n",
        "\n",
        "# Generate predictions using the model and test data\n",
        "y_pred = G.predict(models, y_train, X_test)\n",
        "\n",
        "# Calculate Mean Squared Error (MSE)\n",
        "mse = mean_squared_error(y_test, y_pred)\n",
        "print('MSE:', mse)\n",
        "\n",
        "# Calculate Mean Absolute Error (MAE)\n",
        "mae = mean_absolute_error(y_test, y_pred)\n",
        "print('MAE:', mae)\n",
        "\n",
        "# Calculate Root Mean Squared Error (RMSE)\n",
        "rmse = np.sqrt(mse)\n",
        "print('RMSE:', rmse)\n",
        "\n",
        "# Calculate R2 Score\n",
        "r2 = r2_score(y_test, y_pred)\n",
        "print('R2 Score:', r2)\n",
        "\n",
        "# Calculate Quadratic Weighted Kappa (QWK)\n",
        "def quadratic_weighted_kappa(y_true, y_pred):\n",
        "    return cohen_kappa_score(y_true, y_pred, weights='quadratic')\n",
        "\n",
        "qwk = quadratic_weighted_kappa(y_test, np.round(y_pred))\n",
        "print('QWK:', qwk)\n"
      ],
      "metadata": {
        "colab": {
          "base_uri": "https://localhost:8080/"
        },
        "id": "yjExLtEp-I45",
        "outputId": "632dd2c8-4dbb-439a-fb97-091568770d5a"
      },
      "execution_count": null,
      "outputs": [
        {
          "output_type": "stream",
          "name": "stdout",
          "text": [
            "MSE: 2.635588152745999\n",
            "MAE: 1.2610186988500363\n",
            "RMSE: 1.6234494611000365\n",
            "R2 Score: 0.5587778495660762\n",
            "QWK: 0.7046731798700849\n"
          ]
        }
      ]
    },
    {
      "cell_type": "code",
      "source": [
        "sns.set_style('darkgrid')\n",
        "ax = sns.lineplot(x=range(1000),y=losses)\n",
        "ax.set(xlabel='Epoch',ylabel='Loss',title='Loss vs Epoch')"
      ],
      "metadata": {
        "colab": {
          "base_uri": "https://localhost:8080/",
          "height": 489
        },
        "outputId": "e95a9367-b85f-4250-9837-bb80771e103a",
        "id": "6ZAm5iU77bEf"
      },
      "execution_count": null,
      "outputs": [
        {
          "output_type": "execute_result",
          "data": {
            "text/plain": [
              "[Text(0.5, 0, 'Epoch'), Text(0, 0.5, 'Loss'), Text(0.5, 1.0, 'Loss vs Epoch')]"
            ]
          },
          "metadata": {},
          "execution_count": 41
        },
        {
          "output_type": "display_data",
          "data": {
            "text/plain": [
              "<Figure size 640x480 with 1 Axes>"
            ],
            "image/png": "[encoded data removed]"
          },
          "metadata": {}
        }
      ]
    }
  ]
}