{
  "nbformat": 4,
  "nbformat_minor": 0,
  "metadata": {
    "colab": {
      "provenance": []
    },
    "kernelspec": {
      "name": "python3",
      "display_name": "Python 3"
    },
    "language_info": {
      "name": "python"
    }
  },
  "cells": [
    {
      "cell_type": "markdown",
      "source": [
        "**FUNCTION OF PREDICTIVE MODEL**"
      ],
      "metadata": {
        "id": "_XouEEhRKHD6"
      }
    },
    {
      "cell_type": "code",
      "execution_count": null,
      "metadata": {
        "id": "xzK4UAnuzQPR",
        "colab": {
          "base_uri": "https://localhost:8080/"
        },
        "outputId": "222e99c5-115c-492f-ac01-0b92312efa5b"
      },
      "outputs": [
        {
          "output_type": "stream",
          "name": "stdout",
          "text": [
            "Enter the Athlete's Age: 33\n",
            "Enter the Athlete's Sex - M or F: M\n",
            "Enter the Athlete's Height cm: 173\n",
            "Enter the Athlete's Weight lbs: 65\n",
            "Enter the Athlete's Country: India\n",
            "Enter the Olympics Host City:Mexico City\n",
            "Enter the Athlete's Sport Discipline: Hockey\n",
            "You are likely to win a Bronze Medal!\n"
          ]
        }
      ],
      "source": [
        "\n",
        "\n",
        "# Function for making predictions\n",
        "def AthletePred():\n",
        "    age = input(\"Enter the Athlete's Age: \")\n",
        "    sex = input(\"Enter the Athlete's Sex - M or F: \")\n",
        "    height = input(\"Enter the Athlete's Height cm: \")\n",
        "    weight = input(\"Enter the Athlete's Weight lbs: \")\n",
        "    region = input(\"Enter the Athlete's Country: \")\n",
        "    city = input(\"Enter the Olympics Host City:\")\n",
        "    sport = input(\"Enter the Athlete's Sport Discipline: \")\n",
        "\n",
        "    # Create a DataFrame for prediction\n",
        "    data = pd.DataFrame(\n",
        "        {'Age': [int(age)],\n",
        "         'Sex': [str(sex)],\n",
        "         'Height': [int(height)],\n",
        "         'Weight': [int(weight)],\n",
        "         'region': [str(region)],\n",
        "         'City': [str(city)],\n",
        "         'Sport': [str(sport)]}\n",
        "    )\n",
        "\n",
        "    # Use the pre-trained machine learning model to predict the athlete's medal\n",
        "    predicted_medal = random_forest_olympics.predict(data)[0]\n",
        "\n",
        "    if predicted_medal == 1:\n",
        "        return 'Congratulations! You are likely to win a Gold Medal!'\n",
        "    elif predicted_medal == 3:\n",
        "        return 'You are likely to win a Silver Medal!'\n",
        "    elif predicted_medal == 0:\n",
        "        return 'You are likely to win a Bronze Medal!'\n",
        "    else:\n",
        "        return 'Unfortunately, you are not likely to win a medal. Keep training!'\n",
        "\n",
        "# Example usage\n",
        "result = AthletePred()\n",
        "print(result)"
      ]
    },
    {
      "cell_type": "code",
      "execution_count": null,
      "metadata": {
        "id": "uNYOX9sOzRGH"
      },
      "outputs": [],
      "source": []
    },
    {
      "cell_type": "code",
      "execution_count": null,
      "metadata": {
        "id": "M1T-ly-3zVUU",
        "colab": {
          "base_uri": "https://localhost:8080/"
        },
        "outputId": "60fa5bfd-596f-4c99-d3a5-213b8af78403"
      },
      "outputs": [
        {
          "output_type": "stream",
          "name": "stdout",
          "text": [
            "Enter the Athlete's Age: 19\n",
            "Enter the Athlete's Sex - M or F: M\n",
            "Enter the Athlete's Height cm: 175\n",
            "Enter the Athlete's Weight lbs: 55\n",
            "Enter the Athlete's Country: Kenya\n",
            "Enter the Olympics Host City:Athina\n",
            "Enter the Athlete's Sport Discipline: Athletics\n",
            "You are likely to win a Silver Medal!\n"
          ]
        }
      ],
      "source": [
        "result = AthletePred()\n",
        "print(result)"
      ]
    }
  ]
}